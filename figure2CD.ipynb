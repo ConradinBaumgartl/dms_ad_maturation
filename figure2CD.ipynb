{
 "cells": [
  {
   "cell_type": "code",
   "execution_count": 1,
   "metadata": {},
   "outputs": [
    {
     "data": {
      "text/plain": [
       "'/home/conradin/projects/master_20/dms_Ad_norm/scripts'"
      ]
     },
     "execution_count": 1,
     "metadata": {},
     "output_type": "execute_result"
    }
   ],
   "source": [
    "from scipy import signal\n",
    "from scipy.stats import pearsonr\n",
    "import pandas as pd\n",
    "import numpy as np\n",
    "import seaborn as sns\n",
    "sns.set(font_scale=2)\n",
    "sns.set_style(\"ticks\")\n",
    "import matplotlib.pyplot as plt\n",
    "import os; os.getcwd()"
   ]
  },
  {
   "cell_type": "code",
   "execution_count": 2,
   "metadata": {},
   "outputs": [],
   "source": [
    "def get_specDens(list_of_files, min_period=50, max_period=90, bin_size=1000, step_size=200, ts1_addition=0):\n",
    "    \n",
    "    spectral_density = pd.DataFrame(columns=[\"mid\", \"specDens\", \"genotype\", \"sample\"])\n",
    "    \n",
    "    # init heatmap dict\n",
    "    heatmap_dict = {}\n",
    "    \n",
    "    for wiggle in list_of_files:\n",
    "\n",
    "        print(\"Now processing \" + wiggle)\n",
    "\n",
    "        df = pd.read_csv(\n",
    "            wiggle,\n",
    "            sep =\" \",\n",
    "            names = [\"pos\", \"score\"],\n",
    "            skiprows = 1).set_index(\"pos\")\n",
    "\n",
    "        # remove extreme values from the footprint\n",
    "        df[\"zscore\"] = (df[\"score\"] - df[\"score\"].mean()) / df[\"score\"].std(ddof=0)\n",
    "        # get mean value of all values without outliers\n",
    "        avg = df.loc[abs(df[\"zscore\"]) < 10,][\"score\"].mean()\n",
    "        \n",
    "\n",
    "        # replace every value where zscore is above 10 or below -10 with the average\n",
    "        df = df.where(abs(df[\"zscore\"]) < 10, avg)\n",
    "\n",
    "\n",
    "        #### Convert the footprint to array\n",
    "        score = np.array(df[\"score\"])\n",
    "\n",
    "        ### Calculate the Periodogram for every bin\n",
    "        periodogram_df = pd.DataFrame(columns=[\"freqs\", \"spectrum\", \"start\", \"end\"])\n",
    "        start = 0\n",
    "        end = bin_size\n",
    "        while end < len(df):  \n",
    "\n",
    "            mid = int((start + end) / 2)\n",
    "\n",
    "            # get the index of wt and ts1 on the same level\n",
    "            if \"ts1\" in wiggle:\n",
    "                #mid += (3171 - (bin_size/2))\n",
    "                mid += ts1_addition\n",
    "                genotype = \"ts1\"\n",
    "            else:\n",
    "                genotype = \"WT\"\n",
    "                \n",
    "            if \"free\" in wiggle:\n",
    "                treatment = \"free\"\n",
    "            else:\n",
    "                treatment = \"virus\"\n",
    "\n",
    "            sequence = score[start:end]\n",
    "            freqs, spectrum = signal.periodogram(\n",
    "                sequence,\n",
    "                window=\"boxcar\",\n",
    "                nfft=2*34062,\n",
    "                detrend=\"linear\",\n",
    "                scaling=\"density\")\n",
    "\n",
    "            # do the temp df for the periodogram\n",
    "            temp_df = pd.DataFrame({\"freqs\":freqs, \"spectrum\":spectrum})\n",
    "            temp_df[\"mid\"] = mid\n",
    "            temp_df[\"mid\"] = temp_df[\"mid\"].astype(\"int\")\n",
    "            temp_df[\"start\"] = start\n",
    "            temp_df[\"end\"] = end\n",
    "            periodogram_df = periodogram_df.append(temp_df)\n",
    "\n",
    "            # update start and end point\n",
    "            start += step_size\n",
    "            end += step_size \n",
    "\n",
    "        periodogram_df[\"mid\"] = periodogram_df[\"mid\"].astype(\"int\")\n",
    "        periodogram_df[\"periods\"] = 1/ periodogram_df[\"freqs\"] # get period from frequency\n",
    "        periodogram_df[\"periods\"] = periodogram_df[\"periods\"].replace(np.inf, 34062 * 2) # replace inf values\n",
    "        periodogram_df[\"periods_int\"] = round(periodogram_df[\"periods\"]).astype(\"int\") # round all periods to int\n",
    "        # the next line calculates the median of all spectra that correspond to 1 period and pivots the table for heatmap\n",
    "        heatmap_df = periodogram_df.groupby([\"periods_int\", \"mid\"]).median().drop(columns=[\"freqs\", \"periods\"]).reset_index().pivot(index=\"periods_int\", columns=\"mid\", values=\"spectrum\")\n",
    "        heatmap_df = heatmap_df.reindex(index=heatmap_df.index[::-1]) # flip the index so smaller periods are at the bottom\n",
    "        \n",
    "        \n",
    "        ## periodogram Line\n",
    "        heatmap_pVII = heatmap_df.loc[heatmap_df.index >= min_period,]\n",
    "        heatmap_pVII = heatmap_pVII.loc[heatmap_pVII.index <= max_period,]\n",
    "        \n",
    "        heatmap_dict[wiggle] = heatmap_pVII\n",
    "\n",
    "        # add the max of the 50-90 region to the dataframe\n",
    "        temp_df = pd.DataFrame(columns=[\"mid\", \"specDens\", \"genotype\"])\n",
    "        temp_df[\"mid\"] = heatmap_pVII.sum().index.tolist()\n",
    "        temp_df[\"specDens\"] = heatmap_pVII.sum().tolist() # add the sum of the periods\n",
    "        temp_df[\"genotype\"] = genotype\n",
    "        temp_df[\"treatment\"] = treatment\n",
    "        temp_df[\"sample\"] = os.path.basename(wiggle)\n",
    "        spectral_density = spectral_density.append(temp_df)\n",
    "\n",
    "    return(spectral_density, heatmap_dict)"
   ]
  },
  {
   "cell_type": "code",
   "execution_count": 3,
   "metadata": {},
   "outputs": [],
   "source": [
    "def average_heatmaps(hm1, hm2):\n",
    "    index = hm1.index\n",
    "    cols = hm1.columns\n",
    "    avg_heatmap = np.mean( np.array([ hm1.to_numpy(), hm2.to_numpy() ]), axis=0)\n",
    "    avg_heatmap = pd.DataFrame(avg_heatmap).set_index(index)\n",
    "    avg_heatmap.columns = cols\n",
    "    \n",
    "    return(avg_heatmap)"
   ]
  },
  {
   "cell_type": "code",
   "execution_count": 3,
   "metadata": {},
   "outputs": [],
   "source": [
    "# define all samples\n",
    "all_samples = {\n",
    "    \"WT\":[\n",
    "        \"../raw_footprint/DMS_footprint/AdWT_free_DMS_2_footprint.wig\",\n",
    "        \"../raw_footprint/DMS_footprint/AdWT_free_DMS_1_footprint.wig\",\n",
    "        \"../raw_footprint/DMS_footprint/AdWT_virus_DMS_2_footprint.wig\",\n",
    "        \"../raw_footprint/DMS_footprint/AdWT_virus_DMS_1_footprint.wig\"\n",
    "    ],\n",
    "    \"ts1\":[\n",
    "        \"../raw_footprint/DMS_footprint/AdMUT_free_ts1_DMS_2_footprint.wig\",\n",
    "        \"../raw_footprint/DMS_footprint/AdMUT_free_ts1_DMS_1_footprint.wig\",\n",
    "        \"../raw_footprint/DMS_footprint/AdMUT_virus_ts1_DMS_2_footprint.wig\",\n",
    "        \"../raw_footprint/DMS_footprint/AdMUT_virus_ts1_DMS_1_footprint.wig\"\n",
    "    ]\n",
    "}"
   ]
  },
  {
   "cell_type": "code",
   "execution_count": 8,
   "metadata": {},
   "outputs": [],
   "source": [
    "# parameters for spectral density calculation\n",
    "binsize= 700\n",
    "stepsize = 35\n",
    "max_period = 150\n",
    "out_path = \"../plots/periodogram/Periodogram_50-150/\""
   ]
  },
  {
   "cell_type": "code",
   "execution_count": 6,
   "metadata": {
    "scrolled": true
   },
   "outputs": [
    {
     "name": "stdout",
     "output_type": "stream",
     "text": [
      "Now processing ../raw_footprint/DMS_footprint/AdWT_free_DMS_2_footprint.wig\n",
      "Now processing ../raw_footprint/DMS_footprint/AdWT_free_DMS_1_footprint.wig\n",
      "Now processing ../raw_footprint/DMS_footprint/AdWT_virus_DMS_2_footprint.wig\n",
      "Now processing ../raw_footprint/DMS_footprint/AdWT_virus_DMS_1_footprint.wig\n",
      "Now processing ../raw_footprint/DMS_footprint/AdMUT_free_ts1_DMS_2_footprint.wig\n",
      "Now processing ../raw_footprint/DMS_footprint/AdMUT_free_ts1_DMS_1_footprint.wig\n",
      "Now processing ../raw_footprint/DMS_footprint/AdMUT_virus_ts1_DMS_2_footprint.wig\n",
      "Now processing ../raw_footprint/DMS_footprint/AdMUT_virus_ts1_DMS_1_footprint.wig\n"
     ]
    }
   ],
   "source": [
    "for genotype in all_samples: # loop through the dictionary\n",
    "    \n",
    "    samples = all_samples[genotype] # define the sample set list\n",
    "    \n",
    "    # calculate spectral density\n",
    "    spectral_density, heatmap = get_specDens(samples, bin_size=binsize, step_size=stepsize, max_period=max_period)\n",
    "    \n",
    "    # save to csv\n",
    "    spectral_density.to_csv(out_path + \"{}_DATA_binsize{}stepsize{}_maxperiod{}_funcsum.csv\".format(genotype, binsize, stepsize, max_period), sep=\"\\t\")\n",
    "\n",
    "    for filename in heatmap:\n",
    "        base_name = os.path.basename(filename).replace(\".wig\", \"\")\n",
    "        heatmap[filename].to_csv(out_path + \"{}_DATAHEATMAP_binsize{}stepsize{}.csv\".format(base_name, binsize, stepsize), sep=\"\\t\")"
   ]
  },
  {
   "cell_type": "code",
   "execution_count": 7,
   "metadata": {},
   "outputs": [
    {
     "name": "stderr",
     "output_type": "stream",
     "text": [
      "C:\\Users\\Conradin\\Anaconda3\\lib\\site-packages\\seaborn\\_decorators.py:43: FutureWarning: Pass the following variables as keyword args: x, y. From version 0.12, the only valid positional argument will be `data`, and passing other arguments without an explicit keyword will result in an error or misinterpretation.\n",
      "  FutureWarning\n",
      "C:\\Users\\Conradin\\Anaconda3\\lib\\site-packages\\seaborn\\_decorators.py:43: FutureWarning: Pass the following variables as keyword args: x, y. From version 0.12, the only valid positional argument will be `data`, and passing other arguments without an explicit keyword will result in an error or misinterpretation.\n",
      "  FutureWarning\n"
     ]
    }
   ],
   "source": [
    "for genotype in all_samples:\n",
    "    \n",
    "    samples = all_samples[genotype] # define the sample set list\n",
    "      \n",
    "    spectral_density = pd.read_csv(out_path + \"{}_DATA_binsize700stepsize35_maxperiod150_funcsum.csv\".format(genotype), sep=\"\\t\", index_col=0)\n",
    "    \n",
    "    heatmap = {}\n",
    "    for sample in samples:\n",
    "        base_name = os.path.basename(sample).replace(\".wig\", \"\")\n",
    "        heatmap[sample] = pd.read_csv(out_path + \"{}_DATAHEATMAP_binsize700stepsize35.csv\".format(base_name), sep=\"\\t\", index_col = 0)\n",
    "    \n",
    "    # set genotype specific plotting parameters\n",
    "    if genotype == \"ts1\":\n",
    "        palette = {\"free\":\"black\", \"virus\":\"deepskyblue\"}\n",
    "        max_x = 30800\n",
    "    else:\n",
    "        palette = {\"free\":\"black\", \"virus\":\"darkmagenta\"}\n",
    "        max_x = 34062\n",
    "    \n",
    "    ### plot line plot\n",
    "    fig, ax = plt.subplots(figsize=(20,5), sharex=False, sharey=False)\n",
    "\n",
    "    sns.lineplot(\n",
    "        \"mid\",\n",
    "        \"specDens\",\n",
    "        hue = \"treatment\",\n",
    "        data = spectral_density,\n",
    "        palette = palette)\n",
    "\n",
    "\n",
    "    plt.xlim(0,max_x)\n",
    "    plt.tight_layout()\n",
    "    for ext in [\".svg\",\".png\"]:\n",
    "        plt.savefig(\n",
    "            out_path + \"{}_LINEPLOT_binsize{}stepsize{}_maxperiod{}_funcsum{}\".format(genotype, binsize, stepsize, max_period, ext),\n",
    "            dpi = 300,\n",
    "            bbox_inches=\"tight\"\n",
    "        )\n",
    "    plt.close()\n",
    "    \n",
    "    ### plot heatmaps\n",
    "    # define whats free and what is virus\n",
    "    free_samples = [x for x in samples if \"free\" in x]\n",
    "    virus_samples = [x for x in samples if \"virus\" in x]\n",
    "    \n",
    "    # average the heatmaps over the samples\n",
    "    free_hm = average_heatmaps(heatmap[free_samples[0]], heatmap[free_samples[1]])\n",
    "    virus_hm = average_heatmaps(heatmap[virus_samples[0]], heatmap[virus_samples[1]])\n",
    "    \n",
    "    \n",
    "    fig, ax = plt.subplots(2, 1, figsize=(22,12), sharex=False, sharey=False) # initiate canvas\n",
    "    ax[0].set_title(\"FREE Footprint Heatmap | binsize{}\".format(binsize))\n",
    "    sns.heatmap(free_hm.loc[free_hm.index <= 150,], cmap = \"coolwarm\", ax=ax[0], vmax=40000, yticklabels=True, rasterized=True)\n",
    "    ax[0].set_ylabel(\"period\")\n",
    "\n",
    "\n",
    "    ax[1].set_title(\"VIRUS Footprint Heatmap | binsize{}\".format(binsize))\n",
    "    sns.heatmap(virus_hm.loc[virus_hm.index <= 150,], cmap = \"coolwarm\", ax=ax[1], vmax =40000, yticklabels=True, rasterized=True)\n",
    "    ax[1].set_ylabel(\"period\")\n",
    "\n",
    "    plt.tight_layout()\n",
    "    for ext in [\".svg\",\".pdf\"]:\n",
    "        plt.savefig(\"../plots/periodogram/Periodogram_50-150/{}_HEATMAP_binsize{}stepsize{}_maxperiod{}_funcsum{}\".format(genotype, binsize, stepsize, max_period, ext),\n",
    "                   dpi=300, bbox_inches=\"tight\")\n",
    "    plt.close()"
   ]
  },
  {
   "cell_type": "markdown",
   "metadata": {},
   "source": [
    "# Load in heatmap data and redo heatmaps"
   ]
  },
  {
   "cell_type": "code",
   "execution_count": 10,
   "metadata": {},
   "outputs": [],
   "source": [
    "out_path = \"../plots/periodogram/Periodogram_50-150/\"\n",
    "\n",
    "binsize = 700\n",
    "stepsize = 35\n",
    "max_period = 150\n",
    "\n",
    "yticks = [\"50\"] + 9*[\"\"] + [\"60\"] + 9*[\"\"] + [\"70\"] + 9*[\"\"] + [\"80\"] + 9*[\"\"] + [\"90\"] + 9*[\"\"] + [\"100\"] + 9*[\"\"] + [\"110\"] + 9*[\"\"] + [\"120\"] + 9*[\"\"] + [\"130\"] + 9*[\"\"] + [\"140\"]+ 9*[\"\"] + [\"150\"]\n",
    "yticks = yticks[::-1] "
   ]
  },
  {
   "cell_type": "code",
   "execution_count": 7,
   "metadata": {},
   "outputs": [
    {
     "ename": "NameError",
     "evalue": "name 'out_path' is not defined",
     "output_type": "error",
     "traceback": [
      "\u001b[1;31m---------------------------------------------------------------------------\u001b[0m",
      "\u001b[1;31mNameError\u001b[0m                                 Traceback (most recent call last)",
      "\u001b[1;32m<ipython-input-7-118101dcd3c9>\u001b[0m in \u001b[0;36m<module>\u001b[1;34m\u001b[0m\n\u001b[0;32m      9\u001b[0m     \u001b[1;32mfor\u001b[0m \u001b[0msample\u001b[0m \u001b[1;32min\u001b[0m \u001b[0mfree_samples\u001b[0m\u001b[1;33m:\u001b[0m\u001b[1;33m\u001b[0m\u001b[1;33m\u001b[0m\u001b[0m\n\u001b[0;32m     10\u001b[0m         \u001b[0mbase_name\u001b[0m \u001b[1;33m=\u001b[0m \u001b[0mos\u001b[0m\u001b[1;33m.\u001b[0m\u001b[0mpath\u001b[0m\u001b[1;33m.\u001b[0m\u001b[0mbasename\u001b[0m\u001b[1;33m(\u001b[0m\u001b[0msample\u001b[0m\u001b[1;33m)\u001b[0m\u001b[1;33m.\u001b[0m\u001b[0mreplace\u001b[0m\u001b[1;33m(\u001b[0m\u001b[1;34m\".wig\"\u001b[0m\u001b[1;33m,\u001b[0m \u001b[1;34m\"\"\u001b[0m\u001b[1;33m)\u001b[0m\u001b[1;33m\u001b[0m\u001b[1;33m\u001b[0m\u001b[0m\n\u001b[1;32m---> 11\u001b[1;33m         \u001b[0mheatmap\u001b[0m\u001b[1;33m[\u001b[0m\u001b[0msample\u001b[0m\u001b[1;33m]\u001b[0m \u001b[1;33m=\u001b[0m \u001b[0mpd\u001b[0m\u001b[1;33m.\u001b[0m\u001b[0mread_csv\u001b[0m\u001b[1;33m(\u001b[0m\u001b[0mout_path\u001b[0m \u001b[1;33m+\u001b[0m \u001b[1;34m\"{}_DATAHEATMAP_binsize700stepsize35.csv\"\u001b[0m\u001b[1;33m.\u001b[0m\u001b[0mformat\u001b[0m\u001b[1;33m(\u001b[0m\u001b[0mbase_name\u001b[0m\u001b[1;33m)\u001b[0m\u001b[1;33m,\u001b[0m \u001b[0msep\u001b[0m\u001b[1;33m=\u001b[0m\u001b[1;34m\"\\t\"\u001b[0m\u001b[1;33m,\u001b[0m \u001b[0mindex_col\u001b[0m\u001b[1;33m=\u001b[0m\u001b[1;36m0\u001b[0m\u001b[1;33m)\u001b[0m\u001b[1;33m\u001b[0m\u001b[1;33m\u001b[0m\u001b[0m\n\u001b[0m\u001b[0;32m     12\u001b[0m     \u001b[1;32mfor\u001b[0m \u001b[0msample\u001b[0m \u001b[1;32min\u001b[0m \u001b[0mvirus_samples\u001b[0m\u001b[1;33m:\u001b[0m\u001b[1;33m\u001b[0m\u001b[1;33m\u001b[0m\u001b[0m\n\u001b[0;32m     13\u001b[0m         \u001b[0mbase_name\u001b[0m \u001b[1;33m=\u001b[0m \u001b[0mos\u001b[0m\u001b[1;33m.\u001b[0m\u001b[0mpath\u001b[0m\u001b[1;33m.\u001b[0m\u001b[0mbasename\u001b[0m\u001b[1;33m(\u001b[0m\u001b[0msample\u001b[0m\u001b[1;33m)\u001b[0m\u001b[1;33m.\u001b[0m\u001b[0mreplace\u001b[0m\u001b[1;33m(\u001b[0m\u001b[1;34m\".wig\"\u001b[0m\u001b[1;33m,\u001b[0m \u001b[1;34m\"\"\u001b[0m\u001b[1;33m)\u001b[0m\u001b[1;33m\u001b[0m\u001b[1;33m\u001b[0m\u001b[0m\n",
      "\u001b[1;31mNameError\u001b[0m: name 'out_path' is not defined"
     ]
    }
   ],
   "source": [
    "for genotype in all_samples:\n",
    "    ### plot heatmaps\n",
    "    # define whats free and what is virus\n",
    "    samples = all_samples[genotype]\n",
    "    free_samples = [x for x in samples if \"free\" in x]\n",
    "    virus_samples = [x for x in samples if \"virus\" in x]\n",
    "    \n",
    "    heatmap = {}\n",
    "    for sample in free_samples:\n",
    "        base_name = os.path.basename(sample).replace(\".wig\", \"\")\n",
    "        heatmap[sample] = pd.read_csv(out_path + \"{}_DATAHEATMAP_binsize700stepsize35.csv\".format(base_name), sep=\"\\t\", index_col=0)\n",
    "    for sample in virus_samples:\n",
    "        base_name = os.path.basename(sample).replace(\".wig\", \"\")\n",
    "        heatmap[sample] = pd.read_csv(out_path + \"{}_DATAHEATMAP_binsize700stepsize35.csv\".format(base_name), sep=\"\\t\", index_col=0)\n",
    "\n",
    " \n",
    "    # average the heatmaps over the samples\n",
    "    free_hm = average_heatmaps(heatmap[free_samples[0]], heatmap[free_samples[1]])\n",
    "    virus_hm = average_heatmaps(heatmap[virus_samples[0]], heatmap[virus_samples[1]])\n",
    "    \n",
    "    \n",
    "    fig, ax = plt.subplots(2, 1, figsize=(22,12), sharex=False, sharey=False) # initiate canvas\n",
    "    ax[0].set_title(\"FREE Footprint Heatmap | binsize{}\".format(binsize))\n",
    "    sns.heatmap(free_hm.loc[free_hm.index <= max_period,], cmap = \"coolwarm\", ax=ax[0], vmax=40000, yticklabels=True, rasterized=True)\n",
    "    ax[0].set_yticklabels(yticks)\n",
    "    ax[0].set_ylabel(\"period\")\n",
    "\n",
    "\n",
    "    ax[1].set_title(\"VIRUS Footprint Heatmap | binsize{}\".format(binsize))\n",
    "    sns.heatmap(virus_hm.loc[virus_hm.index <= max_period,], cmap = \"coolwarm\", ax=ax[1], vmax =40000, yticklabels=True, rasterized=True)\n",
    "    ax[1].set_yticklabels(yticks)\n",
    "    ax[1].set_ylabel(\"period\")\n",
    "\n",
    "    plt.tight_layout()\n",
    "    for ext in [\".svg\",\".pdf\"]:\n",
    "        plt.savefig(\"../plots/periodogram/Periodogram_50-150/{}_HEATMAP_binsize{}stepsize{}_maxperiod{}_funcsum{}\".format(genotype, binsize, stepsize, max_period, ext),\n",
    "                   dpi=300, bbox_inches=\"tight\")\n",
    "    plt.close()"
   ]
  },
  {
   "cell_type": "markdown",
   "metadata": {},
   "source": [
    "# all heatmaps in one image"
   ]
  },
  {
   "cell_type": "code",
   "execution_count": 11,
   "metadata": {},
   "outputs": [],
   "source": [
    "free_samples = [x for x in all_samples[\"WT\"] if \"free\" in x]\n",
    "WT_samples = [x for x in all_samples[\"WT\"] if \"virus\" in x]\n",
    "ts1_samples = [x for x in all_samples[\"ts1\"] if \"virus\" in x]\n",
    "\n",
    "heatmap = {}\n",
    "for sample in free_samples:\n",
    "    base_name = os.path.basename(sample).replace(\".wig\", \"\")\n",
    "    heatmap[sample] = pd.read_csv(out_path + \"{}_DATAHEATMAP_binsize700stepsize35.csv\".format(base_name), sep=\"\\t\", index_col=0)\n",
    "for sample in WT_samples:\n",
    "    base_name = os.path.basename(sample).replace(\".wig\", \"\")\n",
    "    heatmap[sample] = pd.read_csv(out_path + \"{}_DATAHEATMAP_binsize700stepsize35.csv\".format(base_name), sep=\"\\t\", index_col=0)\n",
    "for sample in ts1_samples:\n",
    "    base_name = os.path.basename(sample).replace(\".wig\", \"\")\n",
    "    ts1 = pd.read_csv(out_path + \"{}_DATAHEATMAP_binsize700stepsize35.csv\".format(base_name), sep=\"\\t\", index_col=0)\n",
    "    # add an empty prefix to the ts1 heatmaps that brings them up to the same length\n",
    "    empty_prefix = {}\n",
    "    for i in range(91):\n",
    "        empty_prefix[i] = [np.NaN]*101\n",
    "    empty_prefix = pd.DataFrame(empty_prefix).set_index(ts1.index)\n",
    "    # concat prefix with the heatmap and add to the dictionary\n",
    "    heatmap[sample] = pd.concat([empty_prefix, ts1], axis=1)\n",
    "\n",
    "# average the heatmaps over the samples\n",
    "free_hm = average_heatmaps(heatmap[free_samples[0]], heatmap[free_samples[1]])\n",
    "WT_hm = average_heatmaps(heatmap[WT_samples[0]], heatmap[WT_samples[1]])\n",
    "ts1_hm = average_heatmaps(heatmap[ts1_samples[0]], heatmap[ts1_samples[1]])\n",
    "\n",
    "### Plot ###\n",
    "# initiate canvas\n",
    "fig, ax = plt.subplots(3, 1, figsize=(20,20), sharex=False, sharey=False)\n",
    "\n",
    "# plot free\n",
    "ax[0].set_title(\"free\")\n",
    "sns.heatmap(free_hm.loc[free_hm.index <= max_period,], cmap = \"coolwarm\", ax=ax[0], vmax=40000, yticklabels=True, rasterized=True)\n",
    "ax[0].set_yticklabels(yticks)\n",
    "ax[0].set_ylabel(\"period\")\n",
    "ax[0].tick_params(\n",
    "            axis='x',          # changes apply to the x-axis\n",
    "            which='both',      # both major and minor ticks are affected\n",
    "            bottom=False,      # ticks along the bottom edge are off\n",
    "            top=False,         # ticks along the top edge are off\n",
    "            labelbottom=False)\n",
    "\n",
    "# plot WT\n",
    "ax[1].set_title(\"AdWT\")\n",
    "sns.heatmap(WT_hm.loc[WT_hm.index <= max_period,], cmap = \"coolwarm\", ax=ax[1], vmax =40000, yticklabels=True, rasterized=True)\n",
    "ax[1].set_yticklabels(yticks)\n",
    "ax[1].set_ylabel(\"period\")\n",
    "ax[1].tick_params(\n",
    "            axis='x',          # changes apply to the x-axis\n",
    "            which='both',      # both major and minor ticks are affected\n",
    "            bottom=False,      # ticks along the bottom edge are off\n",
    "            top=False,         # ticks along the top edge are off\n",
    "            labelbottom=False)\n",
    "\n",
    "# plot ts1\n",
    "ax[2].set_title(\"Adts1\")\n",
    "sns.heatmap(ts1_hm.loc[ts1_hm.index <= max_period,], cmap = \"coolwarm\", ax=ax[2], vmax =40000, yticklabels=True, rasterized=True)\n",
    "ax[2].set_yticklabels(yticks)\n",
    "ax[2].set_ylabel(\"period\")\n",
    "ax[2].set_xlabel(\"genome\")\n",
    "ax[2].set_xticks(range(0, 954, 50))\n",
    "ax[2].set_xticklabels([x*35 for x in range(0, 954, 50)])\n",
    "\n",
    "\n",
    "plt.tight_layout()\n",
    "\n",
    "for ext in [\".svg\",\".pdf\"]:\n",
    "    plt.savefig(\"../plots/periodogram/Periodogram_50-150/ALL_HEATMAP_binsize{}stepsize{}_maxperiod{}_funcsum{}\".format(binsize, stepsize, max_period, ext),\n",
    "               dpi=300, bbox_inches=\"tight\")\n",
    "plt.close()"
   ]
  },
  {
   "cell_type": "markdown",
   "metadata": {},
   "source": [
    "# Correlation"
   ]
  },
  {
   "cell_type": "code",
   "execution_count": 17,
   "metadata": {},
   "outputs": [],
   "source": [
    "flattened_arrays = pd.DataFrame({\n",
    "    \"free\":np.array(free_hm.iloc[:,91:]).flatten(\"K\"),\n",
    "    \"AdWT\":np.array(WT_hm.iloc[:,91:]).flatten(\"K\"),\n",
    "    \"Adts1\":np.array(ts1_hm.iloc[:,91:]).flatten(\"K\")\n",
    "})"
   ]
  },
  {
   "cell_type": "code",
   "execution_count": 19,
   "metadata": {},
   "outputs": [
    {
     "data": {
      "image/png": "[encoded data removed]",
      "text/plain": [
       "<Figure size 432x288 with 2 Axes>"
      ]
     },
     "metadata": {},
     "output_type": "display_data"
    }
   ],
   "source": [
    "sns.heatmap(flattened_arrays.corr(), cmap=\"coolwarm\", rasterized=True, annot=True, vmin=0.5)\n",
    "\n",
    "for ext in [\".svg\",\".pdf\"]:\n",
    "    plt.savefig(\"../plots/periodogram/Periodogram_50-150/ALL_HEATMAP_CORRELATION_binsize{}stepsize{}_maxperiod{}_funcsum{}\".format(binsize, stepsize, max_period, ext),\n",
    "               dpi=300, bbox_inches=\"tight\")"
   ]
  },
  {
   "cell_type": "code",
   "execution_count": null,
   "metadata": {},
   "outputs": [],
   "source": []
  }
 ],
 "metadata": {
  "kernelspec": {
   "display_name": "Python 3 (ipykernel)",
   "language": "python",
   "name": "python3"
  },
  "language_info": {
   "codemirror_mode": {
    "name": "ipython",
    "version": 3
   },
   "file_extension": ".py",
   "mimetype": "text/x-python",
   "name": "python",
   "nbconvert_exporter": "python",
   "pygments_lexer": "ipython3",
   "version": "3.13.2"
  }
 },
 "nbformat": 4,
 "nbformat_minor": 4
}
